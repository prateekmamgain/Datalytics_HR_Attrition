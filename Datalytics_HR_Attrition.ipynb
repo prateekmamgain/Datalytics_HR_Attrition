{
 "cells": [
  {
   "cell_type": "code",
   "execution_count": null,
   "id": "0cd4df00",
   "metadata": {},
   "outputs": [],
   "source": [
    "import numpy as np\n",
    "import pandas as pd\n",
    "import seaborn as sns"
   ]
  },
  {
   "cell_type": "code",
   "execution_count": null,
   "id": "b8b5f3b9",
   "metadata": {},
   "outputs": [],
   "source": [
    "get_ipython().run_line_magic('matplotlib', 'inline')"
   ]
  },
  {
   "cell_type": "code",
   "execution_count": null,
   "id": "2bbd7aa0",
   "metadata": {},
   "outputs": [],
   "source": [
    "df = pd.read_csv(\"C:/Users/Prateek/Downloads/HR_data1.csv\") \n",
    "df.head()"
   ]
  },
  {
   "cell_type": "code",
   "execution_count": null,
   "id": "4f197b2b",
   "metadata": {},
   "outputs": [],
   "source": [
    "df.shape"
   ]
  },
  {
   "cell_type": "code",
   "execution_count": null,
   "id": "e67706e9",
   "metadata": {},
   "outputs": [],
   "source": [
    "df.dtypes"
   ]
  },
  {
   "cell_type": "code",
   "execution_count": null,
   "id": "ff8e8344",
   "metadata": {},
   "outputs": [],
   "source": [
    "df.isna().sum()"
   ]
  },
  {
   "cell_type": "code",
   "execution_count": null,
   "id": "d75b9513",
   "metadata": {},
   "outputs": [],
   "source": [
    "df.describe()"
   ]
  },
  {
   "cell_type": "code",
   "execution_count": null,
   "id": "8f08eb35",
   "metadata": {},
   "outputs": [],
   "source": [
    "df['Attrition'].value_counts()"
   ]
  },
  {
   "cell_type": "code",
   "execution_count": null,
   "id": "dc34f4cd",
   "metadata": {},
   "outputs": [],
   "source": [
    "#Visualizing this count\n",
    "sns.countplot(df['Attrition'])"
   ]
  },
  {
   "cell_type": "code",
   "execution_count": null,
   "id": "f92208a3",
   "metadata": {},
   "outputs": [],
   "source": [
    "#Show the number of employees that left and stayed by age\n",
    "import matplotlib.pyplot as plt\n",
    "fig_dims = (12, 4)\n",
    "fig, ax = plt.subplots(figsize=fig_dims)"
   ]
  },
  {
   "cell_type": "code",
   "execution_count": null,
   "id": "4c01359a",
   "metadata": {},
   "outputs": [],
   "source": [
    "#ax = axis\n",
    "sns.countplot(x='Age', hue='Attrition', data = df, palette=\"colorblind\", ax = ax,  edgecolor=sns.color_palette(\"dark\", n_colors = 1));\n"
   ]
  },
  {
   "cell_type": "code",
   "execution_count": null,
   "id": "827b0291",
   "metadata": {},
   "outputs": [],
   "source": [
    "#What’s interesting here is that you can see the age with the highest count of employee attrition is age 35 & 38.\n",
    "#The age with the highest retention is age 33 & 42."
   ]
  },
  {
   "cell_type": "code",
   "execution_count": null,
   "id": "241dc2b0",
   "metadata": {},
   "outputs": [],
   "source": [
    "#Print all of the object data types and their unique values\n",
    "for column in df.columns:\n",
    "    if df[column].dtype == object:\n",
    "        print(str(column) + ' : ' + str(df[column].unique()))\n",
    "        print(df[column].value_counts())\n",
    "        print(\"_________________________________________________________________\")\n"
   ]
  },
  {
   "cell_type": "code",
   "execution_count": null,
   "id": "05d7dfb4",
   "metadata": {},
   "outputs": [],
   "source": [
    "#Removing unneeded columns\n",
    "\n",
    "df = df.drop('EmpID', axis = 1) #Employee Name\n",
    "\n",
    "df = df.drop('Employee Name', axis = 1) #Employee Name\n",
    "\n",
    "df = df.drop('DOB', axis = 1) #DOB \n",
    "\n",
    "df = df.drop('Date of Hire', axis = 1) #Date of Hire\n",
    "\n",
    "df = df.drop('Employment Status', axis = 1) #Employment Status\n",
    "\n",
    "df = df.drop('Date of Termination', axis = 1) #Date of Hire\n",
    "\n",
    "df = df.drop('ManagerID', axis = 1) #ManagerID\n",
    "\n",
    "df = df.drop('Term Reason', axis = 1) #Term Reason"
   ]
  },
  {
   "cell_type": "code",
   "execution_count": null,
   "id": "2a8a937e",
   "metadata": {},
   "outputs": [],
   "source": [
    "df.isna().sum()"
   ]
  },
  {
   "cell_type": "code",
   "execution_count": null,
   "id": "de99a8e5",
   "metadata": {},
   "outputs": [],
   "source": [
    "#Get the correlation of the columns\n",
    "df.corr()"
   ]
  },
  {
   "cell_type": "code",
   "execution_count": null,
   "id": "d8caaf92",
   "metadata": {},
   "outputs": [],
   "source": [
    "#Visualize the correlation\n",
    "plt.figure(figsize=(14,14))  #14in by 14in\n",
    "sns.heatmap(df.corr(), annot=True, fmt='.0%')"
   ]
  },
  {
   "cell_type": "code",
   "execution_count": null,
   "id": "ad92759e",
   "metadata": {},
   "outputs": [],
   "source": [
    "#Transform non-numeric columns into numerical columns\n",
    "from sklearn.preprocessing import LabelEncoder\n",
    "\n",
    "for column in df.columns:\n",
    "        if df[column].dtype == np.number:\n",
    "            continue\n",
    "        df[column] = LabelEncoder().fit_transform(df[column])"
   ]
  },
  {
   "cell_type": "code",
   "execution_count": null,
   "id": "f408c89d",
   "metadata": {},
   "outputs": [],
   "source": [
    "#Split the data into independent 'X' and dependent 'Y' variables\n",
    "X = df.iloc[:, 1:df.shape[1]].values \n",
    "Y = df.iloc[:, 0].values"
   ]
  },
  {
   "cell_type": "code",
   "execution_count": null,
   "id": "bdec855d",
   "metadata": {},
   "outputs": [],
   "source": [
    "# Split the dataset into 75% Training set and 25% Testing set\n",
    "from sklearn.model_selection import train_test_split\n",
    "X_train, X_test, Y_train, Y_test = train_test_split(X, Y, test_size = 0.25, random_state = 0)"
   ]
  },
  {
   "cell_type": "code",
   "execution_count": null,
   "id": "837ab5fb",
   "metadata": {},
   "outputs": [],
   "source": [
    "#Use Random Forest Classification algorithm\n",
    "from sklearn.ensemble import RandomForestClassifier\n",
    "forest = RandomForestClassifier(n_estimators = 10, criterion = 'entropy', random_state = 0)\n",
    "forest.fit(X_train, Y_train)"
   ]
  },
  {
   "cell_type": "code",
   "execution_count": null,
   "id": "2a241fa4",
   "metadata": {},
   "outputs": [],
   "source": [
    "#Get the accuracy on the testing data\n",
    "forest.score(X_test, Y_test)"
   ]
  },
  {
   "cell_type": "code",
   "execution_count": null,
   "id": "1f7bef5e",
   "metadata": {},
   "outputs": [],
   "source": [
    "#Show the confusion matrix and accuracy for  the model on the test data\n",
    "#Classification accuracy is the ratio of correct predictions to total predictions made.\n",
    "from sklearn.metrics import confusion_matrix"
   ]
  },
  {
   "cell_type": "code",
   "execution_count": null,
   "id": "f95cf79e",
   "metadata": {},
   "outputs": [],
   "source": [
    "cm = confusion_matrix(Y_test, forest.predict(X_test))\n",
    "\n",
    "TN = cm[0][0]\n",
    "TP = cm[1][1]\n",
    "FN = cm[1][0]\n",
    "FP = cm[0][1]\n",
    "\n",
    "print(cm)\n",
    "print('Model Testing Precision = \"{}!\"'.format(  TP  / (TP + FP )))\n",
    "print('Model Testing Recall = \"{}!\"'.format(  TP  / (TP + FN )))\n",
    "print()# Print a new line"
   ]
  },
  {
   "cell_type": "code",
   "execution_count": null,
   "id": "0a973021",
   "metadata": {},
   "outputs": [],
   "source": [
    "# Return the feature importances (the higher, the more important the feature).\n",
    "importances = pd.DataFrame({'feature':df.iloc[:, 1:df.shape[1]].columns,'importance':np.round(forest.feature_importances_,3)}) #Note: The target column is at position 0\n",
    "importances = importances.sort_values('importance',ascending=False).set_index('feature')\n",
    "importances"
   ]
  },
  {
   "cell_type": "code",
   "execution_count": null,
   "id": "b6635380",
   "metadata": {},
   "outputs": [],
   "source": [
    "importances.reset_index(inplace = True)"
   ]
  },
  {
   "cell_type": "code",
   "execution_count": null,
   "id": "94c0e50f",
   "metadata": {},
   "outputs": [],
   "source": [
    "#Visualize the importance\n",
    "importances.plot.bar()"
   ]
  },
  {
   "cell_type": "code",
   "execution_count": null,
   "id": "73389526",
   "metadata": {},
   "outputs": [],
   "source": []
  },
  {
   "cell_type": "code",
   "execution_count": null,
   "id": "a12fcfe2",
   "metadata": {},
   "outputs": [],
   "source": []
  }
 ],
 "metadata": {
  "kernelspec": {
   "display_name": "Python 3 (ipykernel)",
   "language": "python",
   "name": "python3"
  },
  "language_info": {
   "codemirror_mode": {
    "name": "ipython",
    "version": 3
   },
   "file_extension": ".py",
   "mimetype": "text/x-python",
   "name": "python",
   "nbconvert_exporter": "python",
   "pygments_lexer": "ipython3",
   "version": "3.9.7"
  }
 },
 "nbformat": 4,
 "nbformat_minor": 5
}
